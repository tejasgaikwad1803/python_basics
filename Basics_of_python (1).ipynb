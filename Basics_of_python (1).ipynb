{
  "nbformat": 4,
  "nbformat_minor": 0,
  "metadata": {
    "colab": {
      "provenance": []
    },
    "kernelspec": {
      "name": "python3",
      "display_name": "Python 3"
    },
    "language_info": {
      "name": "python"
    }
  },
  "cells": [
    {
      "cell_type": "markdown",
      "source": [
        "# Python basics\n"
      ],
      "metadata": {
        "id": "8lqjEZ1BQqSR"
      }
    },
    {
      "cell_type": "markdown",
      "source": [],
      "metadata": {
        "id": "n_PgfLzsR3zr"
      }
    },
    {
      "cell_type": "markdown",
      "source": [
        "1.What is Python, and why is it popular?\n",
        "\n",
        "  -> Python is an easy, open-source language used for many things like web, AI, and data. It's popular because it's simple and powerful.\n",
        "\n",
        "\n",
        "\n",
        "2.What is an interpreter in Python ?\n",
        "\n",
        "  -> A Python interpreter is a program that reads and executes Python code. It translates Python code into bytecode, which is then executed by the Python Virtual Machine (PVM).\n",
        "\n",
        "3.What are pre-defined keywords in Python ?\n",
        "\n",
        "  -> Predefined keywords in Python are reserved words that have specific meanings and can't be used for other purposes.\n",
        "  ex. if, elif, try, etc\n",
        "\n",
        "4.Can keywords be used as variable names ?\n",
        "  \n",
        "  -> No, you cannot use keywords as variable names in Python. Keywords are used to define the structure and syntax of the Python language\n",
        "\n",
        "5.What is mutability in Python ?\n",
        "\n",
        "  -> In Python, mutability refers to whether an object's value can change after it's created. Mutable objects can be changed, while immutable objects cannot.\n",
        "\n",
        "6.why are lists mutable, but tuples are immutable ?\n",
        "\n",
        "  -> Tuples and lists are the same in every way except two: tuples use parentheses instead of square brackets, and the items in tuples cannot be modified (but the items in lists can be modified). We often call lists mutable (meaning they can be changed) and tuples immutable (meaning they cannot be changed)\n",
        "\n",
        "7.What is the difference between “==” and “is” operators in Python ?\n",
        "\n",
        "  -> \"==\" is for Checks if the values of two operands are equal it's true\n",
        "      When the values of the operands are equal.\n",
        "\n",
        "  \"is\" is for Checks if different variables point to the same object in memory it's true When the variables on either side of the operator point to the same object\n",
        "\n",
        "8.What are logical operators in Python?\n",
        "\n",
        "  -> Logical operators in Python are used to combine conditions and evaluate them as a single boolean expression. The three main logical operators in Python are and, or, and not.\n",
        "\n",
        "9.What is type casting in Python ?\n",
        "\n",
        "  -> In Python, \"type casting\" refers to the process of converting a variable   \n",
        "     from one data type to another.  using built-in functions like int(), float(), and str() to explicitly specify the desired data type; it's also sometimes called \"type conversion\".\n",
        "\n",
        "10.What is the difference between implicit and explicit type casting ?\n",
        "\n",
        "  -> Implicit type casting happens automatically, while explicit type casting requires the programmer to intervene\n",
        "\n",
        "  Implicit type casting : Automatically converts a smaller data type to a larger data type\n",
        "  Ensures compatibility and prevents data loss in mathematical operations\n",
        "\n",
        "  Explicit typecasting : Manually converts a larger data type to a smaller data type\n",
        "  Provides more control over the data conversion process\n",
        "\n",
        "11.What is the purpose of conditional statements in Python ?\n",
        "\n",
        "  -> The purpose of conditional statements in Python is to control the flow of a program by running or skipping blocks of code based on conditions.\n",
        "\n",
        "12.How does the elif statement work ?\n",
        "\n",
        "  -> The “elif” keyword in Python, stands for “else if”. It can be used in conditional statements to check for multiple conditions.\n",
        "\n",
        "13.What is the difference between for and while loops\n",
        "\n",
        "  -> In programming, a for loop is used to repeat a block of code a known number of times, while a while loop repeats it an unknown number of times.\n",
        "\n",
        "  for loop : When you know the number of iterations\n",
        "             Iterates over a sequence, like a list or string\n",
        "  while loop : When you don't know the number of iterations\n",
        "              Repeats a block of code until a condition is met\n",
        "\n",
        "14.Describe a scenario where a while loop is more suitable than a for loop.\n",
        "\n",
        "  -> 'for' loop, which is generally used when the number of iterations is known beforehand, a 'while' loop is ideal for situations where the number of iterations is not predetermined and depends on some dynamic condition.\n",
        "  "
      ],
      "metadata": {
        "id": "2z8TxT8SQ0Hr"
      }
    },
    {
      "cell_type": "code",
      "source": [
        "#1. Write a Python program to print \"Hello, World!\"\n",
        "print(\"Hello,World!\")"
      ],
      "metadata": {
        "colab": {
          "base_uri": "https://localhost:8080/"
        },
        "id": "oZh-vYEO3P7U",
        "outputId": "4d2009f1-88cb-43fa-f469-adbd389882a2"
      },
      "execution_count": null,
      "outputs": [
        {
          "output_type": "stream",
          "name": "stdout",
          "text": [
            "Hello,World!\n"
          ]
        }
      ]
    },
    {
      "cell_type": "code",
      "source": [
        "#2.Write a Python program that displays your name and age\n",
        "name = \"tejas\"\n",
        "age = 21\n",
        "print(\"my name is\",name,\"& age is \",age)"
      ],
      "metadata": {
        "colab": {
          "base_uri": "https://localhost:8080/"
        },
        "id": "w35zTIDrKCrC",
        "outputId": "f2897753-13b5-4c6f-e313-f0eff93f1a9f"
      },
      "execution_count": null,
      "outputs": [
        {
          "output_type": "stream",
          "name": "stdout",
          "text": [
            "my name is tejas & age is  21\n"
          ]
        }
      ]
    },
    {
      "cell_type": "code",
      "source": [
        "#3.Write code to print all the pre-defined keywords in Python using the keyword library\n",
        "help('keywords')"
      ],
      "metadata": {
        "colab": {
          "base_uri": "https://localhost:8080/"
        },
        "id": "JGmdbJv2KT8U",
        "outputId": "2ad9a85a-27da-4d8f-aa80-4a24475e3a10"
      },
      "execution_count": null,
      "outputs": [
        {
          "output_type": "stream",
          "name": "stdout",
          "text": [
            "\n",
            "Here is a list of the Python keywords.  Enter any keyword to get more help.\n",
            "\n",
            "False               class               from                or\n",
            "None                continue            global              pass\n",
            "True                def                 if                  raise\n",
            "and                 del                 import              return\n",
            "as                  elif                in                  try\n",
            "assert              else                is                  while\n",
            "async               except              lambda              with\n",
            "await               finally             nonlocal            yield\n",
            "break               for                 not                 \n",
            "\n"
          ]
        }
      ]
    },
    {
      "cell_type": "code",
      "source": [
        "#4.Write a program that checks if a given word is a Python keyword\n",
        "lang = \"python\"\n",
        "if (lang == \"python\"):\n",
        "  print(\"language is\",lang)"
      ],
      "metadata": {
        "colab": {
          "base_uri": "https://localhost:8080/"
        },
        "id": "hItRhpDQK1yI",
        "outputId": "acde019e-0107-4a8f-b3ac-87b26b25e1d3"
      },
      "execution_count": null,
      "outputs": [
        {
          "output_type": "stream",
          "name": "stdout",
          "text": [
            "language is python\n"
          ]
        }
      ]
    },
    {
      "cell_type": "code",
      "source": [
        "#5. Create a list and tuple in Python, and demonstrate how attempting to change an element works differently for each\n",
        "li = [1, 2 , 3, \"tejas\"]\n",
        "\n",
        "tup = (1, 2, 3)\n",
        "\n",
        "print(\"list elements are\",li)\n",
        "print(\"tuple elements are\",tup)"
      ],
      "metadata": {
        "colab": {
          "base_uri": "https://localhost:8080/"
        },
        "id": "IpcI21jsMJO6",
        "outputId": "1036b46b-fd9b-4cce-8878-c374a3bdc363"
      },
      "execution_count": null,
      "outputs": [
        {
          "output_type": "stream",
          "name": "stdout",
          "text": [
            "list elements are [1, 2, 3, 'tejas']\n",
            "tuple elements are (1, 2, 3)\n"
          ]
        }
      ]
    },
    {
      "cell_type": "code",
      "source": [
        "#6.Write a function to demonstrate the behavior of mutable and immutable arguments\n",
        "\n",
        "def modify_arguments(immutable_arg, mutable_arg):\n",
        "    print(\"Inside function before modification:\")\n",
        "    print(\"Immutable:\", immutable_arg)\n",
        "    print(\"Mutable:\", mutable_arg)\n",
        "\n",
        "\n",
        "    immutable_arg += 10\n",
        "\n",
        "\n",
        "    mutable_arg.append(100)\n",
        "\n",
        "    print(\"Inside function after modification:\")\n",
        "    print(\"Immutable:\", immutable_arg)\n",
        "    print(\"Mutable:\", mutable_arg)\n",
        "\n",
        "\n",
        "\n",
        "x = 5\n",
        "y = [1, 2, 3]\n",
        "\n",
        "modify_arguments(x, y)\n",
        "\n",
        "print(\"\\nOutside function after calling:\")\n",
        "print(\"Immutable x:\", x)\n",
        "print(\"Mutable y:\", y)\n",
        "\n"
      ],
      "metadata": {
        "id": "_aw3qv3ZNMPq",
        "colab": {
          "base_uri": "https://localhost:8080/"
        },
        "outputId": "10cac4e3-eab6-4db9-b3fd-108ba734e0c2"
      },
      "execution_count": 7,
      "outputs": [
        {
          "output_type": "stream",
          "name": "stdout",
          "text": [
            "Inside function before modification:\n",
            "Immutable: 5\n",
            "Mutable: [1, 2, 3]\n",
            "Inside function after modification:\n",
            "Immutable: 15\n",
            "Mutable: [1, 2, 3, 100]\n",
            "\n",
            "Outside function after calling:\n",
            "Immutable x: 5\n",
            "Mutable y: [1, 2, 3, 100]\n"
          ]
        }
      ]
    },
    {
      "cell_type": "code",
      "source": [
        "#7. Write a program that performs basic arithmetic operations on two user-input numbers\n",
        "\n",
        "num1 = float(input(\"Enter the first number: \"))\n",
        "num2 = float(input(\"Enter the second number: \"))\n",
        "\n",
        "\n",
        "addition = num1 + num2\n",
        "subtraction = num1 - num2\n",
        "multiplication = num1 * num2\n",
        "\n",
        "\n",
        "if num2 != 0:\n",
        "    division = num1 / num2\n",
        "    modulus = num1 % num2\n",
        "else:\n",
        "    division = \"Undefined (division by zero)\"\n",
        "    modulus = \"Undefined (modulus by zero)\"\n",
        "\n",
        "\n",
        "print(\"\\n--- Arithmetic Operations ---\")\n",
        "print(\"Addition:\", addition)\n",
        "print(\"Subtraction:\", subtraction)\n",
        "print(\"Multiplication:\", multiplication)\n",
        "print(\"Division:\", division)\n",
        "print(\"Modulus:\", modulus)\n"
      ],
      "metadata": {
        "id": "jM_DinFWPk_E",
        "colab": {
          "base_uri": "https://localhost:8080/"
        },
        "outputId": "3c04a78b-8fc2-4125-e8bc-934f5cb677cd"
      },
      "execution_count": 6,
      "outputs": [
        {
          "output_type": "stream",
          "name": "stdout",
          "text": [
            "Enter the first number: 12\n",
            "Enter the second number: 16\n",
            "\n",
            "--- Arithmetic Operations ---\n",
            "Addition: 28.0\n",
            "Subtraction: -4.0\n",
            "Multiplication: 192.0\n",
            "Division: 0.75\n",
            "Modulus: 12.0\n"
          ]
        }
      ]
    },
    {
      "cell_type": "code",
      "source": [
        "# 8. Write a program to demonstrate the use of logical operators.\n",
        "a = 10\n",
        "b = 5\n",
        "c = 20\n",
        "\n",
        "print(a > b and c > a)\n",
        "print(a < b or c > a)\n",
        "print(not(a > b))\n",
        "\n"
      ],
      "metadata": {
        "colab": {
          "base_uri": "https://localhost:8080/"
        },
        "id": "Wc9SERakbmHl",
        "outputId": "3437c7ed-be89-43a0-f4f4-de3a8284b800"
      },
      "execution_count": 8,
      "outputs": [
        {
          "output_type": "stream",
          "name": "stdout",
          "text": [
            "True\n",
            "True\n",
            "False\n"
          ]
        }
      ]
    },
    {
      "cell_type": "code",
      "source": [
        "# 9.Write a Python program to convert user input from string to integer, float, and boolean types.\n",
        "x = input(\"Enter a value: \")\n",
        "\n",
        "i = int(x)\n",
        "f = float(x)\n",
        "b = x.lower() in [\"true\", \"1\", \"yes\"]\n",
        "\n",
        "print(\"Integer:\", i)\n",
        "print(\"Float:\", f)\n",
        "print(\"Boolean:\", b)\n",
        "\n"
      ],
      "metadata": {
        "id": "1lHdeLutb5D-",
        "colab": {
          "base_uri": "https://localhost:8080/"
        },
        "outputId": "fcbef47e-8544-4c3b-a2d5-9751b5abbcd2"
      },
      "execution_count": 9,
      "outputs": [
        {
          "output_type": "stream",
          "name": "stdout",
          "text": [
            "Enter a value: 12\n",
            "Integer: 12\n",
            "Float: 12.0\n",
            "Boolean: False\n"
          ]
        }
      ]
    },
    {
      "cell_type": "code",
      "source": [
        "#10. Write code to demonstrate type casting with list elements.\n",
        "data = [\"1\", \"2\", \"3\"]\n",
        "\n",
        "int_list = [int(x) for x in data]\n",
        "float_list = [float(x) for x in data]\n",
        "bool_list = [bool(int(x)) for x in data]\n",
        "\n",
        "print(\"Integer List:\", int_list)\n",
        "print(\"Float List:\", float_list)\n",
        "print(\"Boolean List:\", bool_list)\n",
        "\n"
      ],
      "metadata": {
        "colab": {
          "base_uri": "https://localhost:8080/"
        },
        "id": "yiBZB7wRfiSj",
        "outputId": "9a7758eb-958a-4eb8-a627-40937b4c764c"
      },
      "execution_count": 10,
      "outputs": [
        {
          "output_type": "stream",
          "name": "stdout",
          "text": [
            "Integer List: [1, 2, 3]\n",
            "Float List: [1.0, 2.0, 3.0]\n",
            "Boolean List: [True, True, True]\n"
          ]
        }
      ]
    },
    {
      "cell_type": "code",
      "source": [
        "#11.Write a program that checks if a number is positive, negative, or zero.\n",
        "num = float(input(\"Enter a number: \"))\n",
        "\n",
        "if num > 0:\n",
        "    print(\"Positive number\")\n",
        "elif num < 0:\n",
        "    print(\"Negative number\")\n",
        "else:\n",
        "    print(\"Zero\")\n"
      ],
      "metadata": {
        "colab": {
          "base_uri": "https://localhost:8080/"
        },
        "id": "rlapwQATf9rz",
        "outputId": "677cd414-2135-4ae3-b4e8-ef0b9bf61307"
      },
      "execution_count": 11,
      "outputs": [
        {
          "output_type": "stream",
          "name": "stdout",
          "text": [
            "Enter a number: 16\n",
            "Positive number\n"
          ]
        }
      ]
    },
    {
      "cell_type": "code",
      "source": [
        "#12. Write a for loop to print numbers from 1 to 10.\n",
        "for i in range(1, 11):\n",
        "    print(i)\n"
      ],
      "metadata": {
        "colab": {
          "base_uri": "https://localhost:8080/"
        },
        "id": "UaasVCzygI9j",
        "outputId": "311287e5-8772-4db1-bb56-e968ed0e8267"
      },
      "execution_count": 12,
      "outputs": [
        {
          "output_type": "stream",
          "name": "stdout",
          "text": [
            "1\n",
            "2\n",
            "3\n",
            "4\n",
            "5\n",
            "6\n",
            "7\n",
            "8\n",
            "9\n",
            "10\n"
          ]
        }
      ]
    },
    {
      "cell_type": "code",
      "source": [
        "#13.Write a Python program to find the sum of all even numbers between 1 and 50.\n",
        "sum_even = 0\n",
        "for i in range(1, 51):\n",
        "    if i % 2 == 0:\n",
        "        sum_even += i\n",
        "print(\"Sum of even numbers from 1 to 50:\", sum_even)\n"
      ],
      "metadata": {
        "colab": {
          "base_uri": "https://localhost:8080/"
        },
        "id": "O5QF_2bKgSl1",
        "outputId": "e0c6a371-335d-4558-e6d4-300d1df97b40"
      },
      "execution_count": 13,
      "outputs": [
        {
          "output_type": "stream",
          "name": "stdout",
          "text": [
            "Sum of even numbers from 1 to 50: 650\n"
          ]
        }
      ]
    },
    {
      "cell_type": "code",
      "source": [
        "#14.Write a program to reverse a string using a while loop\n",
        "text = input(\"Enter a string: \")\n",
        "reversed_text = \"\"\n",
        "i = len(text) - 1\n",
        "\n",
        "while i >= 0:\n",
        "    reversed_text += text[i]\n",
        "    i -= 1\n",
        "\n",
        "print(\"Reversed string:\", reversed_text)\n"
      ],
      "metadata": {
        "colab": {
          "base_uri": "https://localhost:8080/"
        },
        "id": "14FZSPYagdCq",
        "outputId": "deb9a5a9-0fdf-43ed-a2a7-098614614d69"
      },
      "execution_count": 14,
      "outputs": [
        {
          "output_type": "stream",
          "name": "stdout",
          "text": [
            "Enter a string: tejas\n",
            "Reversed string: sajet\n"
          ]
        }
      ]
    },
    {
      "cell_type": "code",
      "source": [
        "#15.Write a Python program to calculate the factorial of a number provided by the user using a while loop.\n",
        "num = int(input(\"Enter a number: \"))\n",
        "fact = 1\n",
        "i = 1\n",
        "\n",
        "while i <= num:\n",
        "    fact *= i\n",
        "    i += 1\n",
        "\n",
        "print(\"Factorial:\", fact)\n"
      ],
      "metadata": {
        "colab": {
          "base_uri": "https://localhost:8080/"
        },
        "id": "Tl4Jkc8wgmDr",
        "outputId": "a1c88d5c-038d-4450-c656-8a398435e2e9"
      },
      "execution_count": 15,
      "outputs": [
        {
          "output_type": "stream",
          "name": "stdout",
          "text": [
            "Enter a number: 69\n",
            "Factorial: 171122452428141311372468338881272839092270544893520369393648040923257279754140647424000000000000000\n"
          ]
        }
      ]
    }
  ]
}