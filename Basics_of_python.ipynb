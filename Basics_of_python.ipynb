{
  "nbformat": 4,
  "nbformat_minor": 0,
  "metadata": {
    "colab": {
      "provenance": []
    },
    "kernelspec": {
      "name": "python3",
      "display_name": "Python 3"
    },
    "language_info": {
      "name": "python"
    }
  },
  "cells": [
    {
      "cell_type": "code",
      "execution_count": null,
      "metadata": {
        "id": "G6D6MpA4QiE2"
      },
      "outputs": [],
      "source": []
    },
    {
      "cell_type": "markdown",
      "source": [
        "# Python basics\n"
      ],
      "metadata": {
        "id": "8lqjEZ1BQqSR"
      }
    },
    {
      "cell_type": "markdown",
      "source": [],
      "metadata": {
        "id": "n_PgfLzsR3zr"
      }
    },
    {
      "cell_type": "markdown",
      "source": [
        "1.What is Python, and why is it popular?\n",
        "\n",
        "  -> Python is a popular programming language because it's easy to learn,\n",
        "     versatile, and open-source.\n",
        "\n",
        "\n",
        "\n",
        "2.What is an interpreter in Python ?\n",
        "\n",
        "  -> A Python interpreter is a program that reads and executes Python code. It translates Python code into bytecode, which is then executed by the Python Virtual Machine (PVM).\n",
        "\n",
        "3.What are pre-defined keywords in Python ?\n",
        "\n",
        "  -> Predefined keywords in Python are reserved words that have specific meanings and can't be used for other purposes.\n",
        "  ex. if, elif, try, etc\n",
        "\n",
        "4.Can keywords be used as variable names ?\n",
        "  \n",
        "  -> No, you cannot use keywords as variable names in Python. Keywords are used to define the structure and syntax of the Python language\n",
        "\n",
        "5.What is mutability in Python ?\n",
        "\n",
        "  -> In Python, mutability refers to whether an object's value can change after it's created. Mutable objects can be changed, while immutable objects cannot.\n",
        "\n",
        "6.why are lists mutable, but tuples are immutable ?\n",
        "\n",
        "  -> Tuples and lists are the same in every way except two: tuples use parentheses instead of square brackets, and the items in tuples cannot be modified (but the items in lists can be modified). We often call lists mutable (meaning they can be changed) and tuples immutable (meaning they cannot be changed)\n",
        "\n",
        "7.What is the difference between “==” and “is” operators in Python ?\n",
        "\n",
        "  -> \"==\" is for Checks if the values of two operands are equal it's true\n",
        "      When the values of the operands are equal.\n",
        "\n",
        "      \"is\" is for Checks if different variables point to the same object in memory it's true When the variables on either side of the operator point to the same object\n",
        "\n",
        "8.What are logical operators in Python?\n",
        "\n",
        "  -> Logical operators in Python are used to combine conditions and evaluate them as a single boolean expression. The three main logical operators in Python are and, or, and not.\n",
        "\n",
        "9.What is type casting in Python ?\n",
        "\n",
        "  -> In Python, \"type casting\" refers to the process of converting a variable   \n",
        "     from one data type to another.  using built-in functions like int(), float(), and str() to explicitly specify the desired data type; it's also sometimes called \"type conversion\".\n",
        "\n",
        "10.What is the difference between implicit and explicit type casting ?\n",
        "\n",
        "  -> Implicit type casting happens automatically, while explicit type casting requires the programmer to intervene\n",
        "\n",
        "  Implicit type casting : Automatically converts a smaller data type to a larger data type\n",
        "  Ensures compatibility and prevents data loss in mathematical operations\n",
        "\n",
        "  Explicit typecasting : Manually converts a larger data type to a smaller data type\n",
        "  Provides more control over the data conversion process\n",
        "\n",
        "11.What is the purpose of conditional statements in Python ?\n",
        "\n",
        "  -> The purpose of conditional statements in Python is to control the flow of a program by running or skipping blocks of code based on conditions.\n",
        "\n",
        "12.How does the elif statement work ?\n",
        "\n",
        "  -> The “elif” keyword in Python, stands for “else if”. It can be used in conditional statements to check for multiple conditions.\n",
        "\n",
        "13.What is the difference between for and while loops\n",
        "\n",
        "  -> In programming, a for loop is used to repeat a block of code a known number of times, while a while loop repeats it an unknown number of times.\n",
        "\n",
        "  for loop : When you know the number of iterations\n",
        "             Iterates over a sequence, like a list or string\n",
        "  while loop : When you don't know the number of iterations\n",
        "              Repeats a block of code until a condition is met\n",
        "\n",
        "14.Describe a scenario where a while loop is more suitable than a for loop.\n",
        "\n",
        "  -> 'for' loop, which is generally used when the number of iterations is known beforehand, a 'while' loop is ideal for situations where the number of iterations is not predetermined and depends on some dynamic condition.\n",
        "  "
      ],
      "metadata": {
        "id": "2z8TxT8SQ0Hr"
      }
    },
    {
      "cell_type": "code",
      "source": [
        "#1. Write a Python program to print \"Hello, World!\"\n",
        "print(\"Hello,World!\")"
      ],
      "metadata": {
        "colab": {
          "base_uri": "https://localhost:8080/"
        },
        "id": "oZh-vYEO3P7U",
        "outputId": "4d2009f1-88cb-43fa-f469-adbd389882a2"
      },
      "execution_count": 2,
      "outputs": [
        {
          "output_type": "stream",
          "name": "stdout",
          "text": [
            "Hello,World!\n"
          ]
        }
      ]
    },
    {
      "cell_type": "code",
      "source": [
        "#2.Write a Python program that displays your name and age\n",
        "name = \"tejas\"\n",
        "age = 21\n",
        "print(\"my name is\",name,\"& age is \",age)"
      ],
      "metadata": {
        "colab": {
          "base_uri": "https://localhost:8080/"
        },
        "id": "w35zTIDrKCrC",
        "outputId": "f2897753-13b5-4c6f-e313-f0eff93f1a9f"
      },
      "execution_count": 4,
      "outputs": [
        {
          "output_type": "stream",
          "name": "stdout",
          "text": [
            "my name is tejas & age is  21\n"
          ]
        }
      ]
    },
    {
      "cell_type": "code",
      "source": [
        "#3.Write code to print all the pre-defined keywords in Python using the keyword library\n",
        "help('keywords')"
      ],
      "metadata": {
        "colab": {
          "base_uri": "https://localhost:8080/"
        },
        "id": "JGmdbJv2KT8U",
        "outputId": "2ad9a85a-27da-4d8f-aa80-4a24475e3a10"
      },
      "execution_count": 12,
      "outputs": [
        {
          "output_type": "stream",
          "name": "stdout",
          "text": [
            "\n",
            "Here is a list of the Python keywords.  Enter any keyword to get more help.\n",
            "\n",
            "False               class               from                or\n",
            "None                continue            global              pass\n",
            "True                def                 if                  raise\n",
            "and                 del                 import              return\n",
            "as                  elif                in                  try\n",
            "assert              else                is                  while\n",
            "async               except              lambda              with\n",
            "await               finally             nonlocal            yield\n",
            "break               for                 not                 \n",
            "\n"
          ]
        }
      ]
    },
    {
      "cell_type": "code",
      "source": [
        "#4.Write a program that checks if a given word is a Python keyword\n",
        "lang = \"python\"\n",
        "if (lang == \"python\"):\n",
        "  print(\"language is\",lang)"
      ],
      "metadata": {
        "colab": {
          "base_uri": "https://localhost:8080/"
        },
        "id": "hItRhpDQK1yI",
        "outputId": "acde019e-0107-4a8f-b3ac-87b26b25e1d3"
      },
      "execution_count": 13,
      "outputs": [
        {
          "output_type": "stream",
          "name": "stdout",
          "text": [
            "language is python\n"
          ]
        }
      ]
    },
    {
      "cell_type": "code",
      "source": [
        "#5. Create a list and tuple in Python, and demonstrate how attempting to change an element works differently for each\n",
        "li = [1, 2 , 3, \"tejas\"]\n",
        "\n",
        "tup = (1, 2, 3)\n",
        "\n",
        "print(\"list elements are\",li)\n",
        "print(\"tuple elements are\",tup)"
      ],
      "metadata": {
        "colab": {
          "base_uri": "https://localhost:8080/"
        },
        "id": "IpcI21jsMJO6",
        "outputId": "1036b46b-fd9b-4cce-8878-c374a3bdc363"
      },
      "execution_count": 14,
      "outputs": [
        {
          "output_type": "stream",
          "name": "stdout",
          "text": [
            "list elements are [1, 2, 3, 'tejas']\n",
            "tuple elements are (1, 2, 3)\n"
          ]
        }
      ]
    },
    {
      "cell_type": "code",
      "source": [
        "#6.Write a function to demonstrate the behavior of mutable and immutable arguments\n",
        "li = [1,2,3,4] # mutable args\n",
        "li[0]\n",
        "\n",
        "st = \"pwskills\" # immutable args\n",
        "st[0] = \"c\"\n",
        "print(st)"
      ],
      "metadata": {
        "id": "_aw3qv3ZNMPq"
      },
      "execution_count": 19,
      "outputs": []
    },
    {
      "cell_type": "code",
      "source": [
        "#7.Write a program that performs basic arithmetic operations on two user-input numbers\n",
        "a = input(\"enter first number\")\n",
        "b = input(\"enter second number\")\n",
        "a = int(a)\n",
        "b = int(b)\n",
        "c = a + b\n",
        "d = a - b\n",
        "e = a * b\n",
        "f = a / b\n",
        "print(c)\n",
        "print(d)\n",
        "print(e)\n",
        "print(f)"
      ],
      "metadata": {
        "colab": {
          "base_uri": "https://localhost:8080/"
        },
        "id": "jM_DinFWPk_E",
        "outputId": "533ba4c3-5719-4a5f-98b8-db6aee5fae14"
      },
      "execution_count": 27,
      "outputs": [
        {
          "output_type": "stream",
          "name": "stdout",
          "text": [
            "enter first number12\n",
            "enter second number12\n",
            "24\n",
            "0\n",
            "144\n",
            "1.0\n"
          ]
        }
      ]
    },
    {
      "cell_type": "code",
      "source": [
        "#8. Write a program to demonstrate the use of logical operators.\n",
        "1 & 1 # 1 is answer\n",
        "1 | 1 # 1 is answer\n",
        "not(1) # false is answer"
      ],
      "metadata": {
        "id": "jmQsCMwEZthq"
      },
      "execution_count": 32,
      "outputs": []
    },
    {
      "cell_type": "code",
      "source": [
        "#9.Write a Python program to convert user input from string to integer, float, and boolean types.\n",
        "a = input(\"enter a number \")\n",
        "print(type(int(a)))\n",
        "print(type(float(a)))\n",
        "bool(a)"
      ],
      "metadata": {
        "id": "alG0qz2Ob28z",
        "outputId": "cf0bc8e3-ad4f-4b6b-a8b9-52288741b95b",
        "colab": {
          "base_uri": "https://localhost:8080/"
        }
      },
      "execution_count": 35,
      "outputs": [
        {
          "output_type": "stream",
          "name": "stdout",
          "text": [
            "enter a number 12\n",
            "<class 'int'>\n",
            "<class 'float'>\n"
          ]
        },
        {
          "output_type": "execute_result",
          "data": {
            "text/plain": [
              "True"
            ]
          },
          "metadata": {},
          "execution_count": 35
        }
      ]
    },
    {
      "cell_type": "code",
      "source": [
        "#10.Write code to demonstrate type casting with list elements.\n",
        "li = [10, 12, \"tejas\"]\n",
        "print(type(float((li[0]))))"
      ],
      "metadata": {
        "id": "tIzFz8UocrNL",
        "outputId": "ff3b02ff-0d50-45a9-96fc-e590ef49673d",
        "colab": {
          "base_uri": "https://localhost:8080/"
        }
      },
      "execution_count": 38,
      "outputs": [
        {
          "output_type": "stream",
          "name": "stdout",
          "text": [
            "<class 'float'>\n"
          ]
        }
      ]
    },
    {
      "cell_type": "code",
      "source": [
        "#11.Write a program that checks if a number is positive, negative, or zero.\n",
        "a = 10\n",
        "if (a > 0):\n",
        "  print(\"the number is positive number\")\n",
        "elif(a < 0):\n",
        "  print(\"the number is negative number\")\n",
        "else:\n",
        "  print(\"the number is zero\")"
      ],
      "metadata": {
        "id": "Gepsg34Qeux-",
        "outputId": "d168db65-a9f6-4ea5-a4d1-0877628af19c",
        "colab": {
          "base_uri": "https://localhost:8080/"
        }
      },
      "execution_count": 41,
      "outputs": [
        {
          "output_type": "stream",
          "name": "stdout",
          "text": [
            "the number is positive number\n"
          ]
        }
      ]
    },
    {
      "cell_type": "code",
      "source": [
        "#12. Write a for loop to print numbers from 1 to 10\n",
        "for i in range(1, 11):\n",
        "  print(i)"
      ],
      "metadata": {
        "id": "AVAE8mkGfgHw",
        "outputId": "09fcf53e-32dd-46c2-d0de-5ed272ea3833",
        "colab": {
          "base_uri": "https://localhost:8080/"
        }
      },
      "execution_count": 43,
      "outputs": [
        {
          "output_type": "stream",
          "name": "stdout",
          "text": [
            "1\n",
            "2\n",
            "3\n",
            "4\n",
            "5\n",
            "6\n",
            "7\n",
            "8\n",
            "9\n",
            "10\n"
          ]
        }
      ]
    },
    {
      "cell_type": "code",
      "source": [
        "#13. Write a Python program to find the sum of all even numbers between 1 and 50\n",
        "for i in range(1,51):\n",
        "    if(i % 2 == 0):\n",
        "      print(i)"
      ],
      "metadata": {
        "id": "9lvmaQKWf6_o",
        "outputId": "82bbfd38-caf7-4e49-a841-3a8ee2292c86",
        "colab": {
          "base_uri": "https://localhost:8080/"
        }
      },
      "execution_count": 45,
      "outputs": [
        {
          "output_type": "stream",
          "name": "stdout",
          "text": [
            "2\n",
            "4\n",
            "6\n",
            "8\n",
            "10\n",
            "12\n",
            "14\n",
            "16\n",
            "18\n",
            "20\n",
            "22\n",
            "24\n",
            "26\n",
            "28\n",
            "30\n",
            "32\n",
            "34\n",
            "36\n",
            "38\n",
            "40\n",
            "42\n",
            "44\n",
            "46\n",
            "48\n",
            "50\n"
          ]
        }
      ]
    },
    {
      "cell_type": "code",
      "source": [
        "#14.Write a program to reverse a string using a while loop.\n",
        "str = \"tejas\"\n",
        "print(str[::-1])"
      ],
      "metadata": {
        "id": "Ar7GHxnYgWkG",
        "outputId": "99dbc088-d67f-4007-cb47-4cf4c64c6b35",
        "colab": {
          "base_uri": "https://localhost:8080/"
        }
      },
      "execution_count": 48,
      "outputs": [
        {
          "output_type": "stream",
          "name": "stdout",
          "text": [
            "sajet\n"
          ]
        }
      ]
    },
    {
      "cell_type": "code",
      "source": [
        "#15. Write a Python program to calculate the factorial of a number provided by the user using a while loop\n",
        "num = int(input(\"Enter a non-negative integer: \"))\n",
        "\n",
        "if num < 0:\n",
        "    print(\"Factorial is not defined for negative numbers.\")\n",
        "elif num == 0:\n",
        "    print(\"The factorial of 0 is 1\")\n",
        "else:\n",
        "    factorial = 1\n",
        "    while num > 0:\n",
        "        factorial *= num\n",
        "        num -= 1\n",
        "    print(\"The factorial is\", factorial)"
      ],
      "metadata": {
        "id": "3tAG4tO6iZzL",
        "outputId": "e131e1f6-4a59-4397-84ba-dbc64beb5125",
        "colab": {
          "base_uri": "https://localhost:8080/"
        }
      },
      "execution_count": 50,
      "outputs": [
        {
          "output_type": "stream",
          "name": "stdout",
          "text": [
            "Enter a non-negative integer: 2\n",
            "The factorial is 2\n"
          ]
        }
      ]
    },
    {
      "cell_type": "code",
      "source": [],
      "metadata": {
        "id": "7WClKh9xje0k"
      },
      "execution_count": null,
      "outputs": []
    }
  ]
}